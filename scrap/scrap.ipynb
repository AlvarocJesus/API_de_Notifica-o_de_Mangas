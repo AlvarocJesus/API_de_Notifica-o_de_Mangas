{
 "cells": [
  {
   "cell_type": "markdown",
   "metadata": {},
   "source": [
    "# Modelo de Scrap para cada site"
   ]
  },
  {
   "cell_type": "code",
   "execution_count": null,
   "metadata": {},
   "outputs": [],
   "source": [
    "# Imports\n",
    "import requests\n",
    "import bs4"
   ]
  },
  {
   "cell_type": "markdown",
   "metadata": {},
   "source": [
    "## Oldi Sussy"
   ]
  },
  {
   "cell_type": "code",
   "execution_count": null,
   "metadata": {},
   "outputs": [],
   "source": [
    "\n",
    "\n",
    "# url = 'https://www.amazon.com.br/Monitor-Gamer-AOC-FreeSync-Q27G2/dp/B0C6FHZW5C'\n",
    "url = 'https://oldi.sussytoons.com/manga/logando-10-000-anos-no-futuro/'\n",
    "\n",
    "test = requests.get(url)\n",
    "soup = bs4.BeautifulSoup(test.text, 'html.parser')\n",
    "\n",
    "with open('teste.html', 'w', encoding='utf-8') as file:\n",
    "\tfile.write(soup.prettify())\n",
    "\n",
    "print(soup.title)\n",
    "print(soup.find('div', class_='post-title').find('h1').text.strip())\n",
    "capitulos = soup.find('ul', class_='main version-chap no-volumn').find_all('li')\n",
    "ultimo_capitulo = soup.find('ul', class_='main version-chap no-volumn').find_all('li')[0].find('a').text.strip()\n",
    "ultimo_capitulo_link = soup.find('ul', class_='main version-chap no-volumn').find_all('li')[0].find('a')['href']\n",
    "print(capitulos)\n",
    "print(ultimo_capitulo)\n",
    "print(ultimo_capitulo_link)\n",
    "\n",
    "for capitulo in capitulos:\n",
    "\tcap = capitulo.find('a')\n",
    "\tprint(f'Capitulo: {cap.text}')\n",
    "\tprint(f'Link: {cap[\"href\"]}')\n"
   ]
  },
  {
   "cell_type": "markdown",
   "metadata": {},
   "source": [
    "## New Sussy"
   ]
  },
  {
   "cell_type": "code",
   "execution_count": null,
   "metadata": {},
   "outputs": [],
   "source": []
  }
 ],
 "metadata": {
  "kernelspec": {
   "display_name": "notifyManga",
   "language": "python",
   "name": "python3"
  },
  "language_info": {
   "codemirror_mode": {
    "name": "ipython",
    "version": 3
   },
   "file_extension": ".py",
   "mimetype": "text/x-python",
   "name": "python",
   "nbconvert_exporter": "python",
   "pygments_lexer": "ipython3",
   "version": "3.11.3"
  }
 },
 "nbformat": 4,
 "nbformat_minor": 2
}
